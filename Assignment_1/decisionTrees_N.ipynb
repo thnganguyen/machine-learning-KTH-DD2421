{
 "cells": [
  {
   "cell_type": "code",
   "execution_count": 31,
   "metadata": {},
   "outputs": [],
   "source": [
    "import seaborn as sns\n",
    "import monkdata as m\n",
    "import numpy as np\n",
    "import dtree as dt\n",
    "import pandas as pd\n",
    "import drawtree_qt5 as drawt\n",
    "import random"
   ]
  },
  {
   "cell_type": "code",
   "execution_count": 41,
   "metadata": {},
   "outputs": [],
   "source": [
    "random.seed(123)\n",
    "def partition(data, fraction):\n",
    "    ldata = list(data)\n",
    "    random.shuffle(ldata)\n",
    "    breakPoint = int(len(ldata) * fraction)\n",
    "    return ldata[:breakPoint], ldata[breakPoint:]"
   ]
  },
  {
   "cell_type": "markdown",
   "metadata": {},
   "source": [
    "## Assignment 0"
   ]
  },
  {
   "cell_type": "markdown",
   "metadata": {},
   "source": [
    "## Assignment 1"
   ]
  },
  {
   "cell_type": "markdown",
   "metadata": {},
   "source": [
    "Entropy of the training set of each dataset MONK1, MONK2, MONK3 respectively."
   ]
  },
  {
   "cell_type": "code",
   "execution_count": 19,
   "metadata": {},
   "outputs": [
    {
     "name": "stdout",
     "output_type": "stream",
     "text": [
      "[1.         0.95711743 0.99980613]\n"
     ]
    }
   ],
   "source": [
    "datasets = [m.monk1, m.monk2, m.monk3]\n",
    "ent = np.zeros(len(datasets))\n",
    "for i, v in enumerate(datasets):\n",
    "    ent[i] = dt.entropy(v)\n",
    "print(ent)"
   ]
  },
  {
   "cell_type": "markdown",
   "metadata": {},
   "source": [
    "## Assignment 2"
   ]
  },
  {
   "cell_type": "markdown",
   "metadata": {},
   "source": [
    "An example of the entropy of a uniform distribution and non-uniform distribution in which the samples are created from binomial sampling with probability p = 0.5 for the uniform set and p = 0.1 for the non-uniform set.\n",
    "\n",
    "The value of entropy in the case of p = 0.5 is close to 1 while it is smaller than 0.5 in the other case."
   ]
  },
  {
   "cell_type": "code",
   "execution_count": 32,
   "metadata": {},
   "outputs": [
    {
     "name": "stdout",
     "output_type": "stream",
     "text": [
      "0.492\n",
      "0.9998153271549207\n"
     ]
    }
   ],
   "source": [
    "np.random.seed(123)\n",
    "uset = np.random.binomial(1, .5, 1000)\n",
    "p_u = sum(uset)/len(uset)\n",
    "print(p_u)\n",
    "ent_uset = -p_u*np.log2(p_u) - (1-p_u)*np.log2(1-p_u)\n",
    "print(ent_uset)"
   ]
  },
  {
   "cell_type": "code",
   "execution_count": 33,
   "metadata": {},
   "outputs": [
    {
     "name": "stdout",
     "output_type": "stream",
     "text": [
      "0.106\n",
      "0.48773158354050183\n"
     ]
    }
   ],
   "source": [
    "eset = np.random.binomial(1, .1, 1000)\n",
    "p_e = sum(eset)/len(eset)\n",
    "print(p_e)\n",
    "ent_eset = -p_e*np.log2(p_e) - (1-p_e)*np.log2(1-p_e)\n",
    "print(ent_eset)"
   ]
  },
  {
   "cell_type": "markdown",
   "metadata": {},
   "source": [
    "## Assignment 3"
   ]
  },
  {
   "cell_type": "markdown",
   "metadata": {},
   "source": [
    "Based on the information gain (Gain), the attribute which has maximum Gain value should be used for splitting the data at the root node. In particular, A5 in MONK1 dataset, A5 in MONK2 and A2 in MONK3 should be roots."
   ]
  },
  {
   "cell_type": "code",
   "execution_count": 20,
   "metadata": {},
   "outputs": [
    {
     "name": "stdout",
     "output_type": "stream",
     "text": [
      "[[0.07527256 0.00583843 0.00470757 0.0263117  0.28703075 0.00075786]\n",
      " [0.00375618 0.0024585  0.00105615 0.01566425 0.01727718 0.00624762]\n",
      " [0.00712087 0.29373617 0.00083111 0.00289182 0.25591172 0.00707703]]\n"
     ]
    }
   ],
   "source": [
    "len_data = len(datasets)\n",
    "len_att = len(m.attributes)\n",
    "info = np.zeros((len_data, len_att))\n",
    "for i, v in enumerate(datasets):\n",
    "    for j in range(len(m.attributes)):\n",
    "        info[i,j] = dt.averageGain(v, m.attributes[j])\n",
    "print(info)"
   ]
  },
  {
   "cell_type": "code",
   "execution_count": 21,
   "metadata": {},
   "outputs": [
    {
     "name": "stdout",
     "output_type": "stream",
     "text": [
      "[4 4 1]\n"
     ]
    }
   ],
   "source": [
    "roots = np.argmax(info, axis=1)\n",
    "print(roots)"
   ]
  },
  {
   "cell_type": "markdown",
   "metadata": {},
   "source": [
    "## Assignment 4"
   ]
  },
  {
   "cell_type": "markdown",
   "metadata": {},
   "source": [
    "The entropy of the subsets $S_k$ should be small???????????\n",
    "\n",
    "Motivate using the information gain to pick an attribute for splitting?????????"
   ]
  },
  {
   "cell_type": "code",
   "execution_count": 66,
   "metadata": {},
   "outputs": [
    {
     "name": "stdout",
     "output_type": "stream",
     "text": [
      "[[0.         0.93831535 0.94807824 0.90817835]\n",
      " [0.91034806 1.         0.96333555 0.877962  ]\n",
      " [0.91829583 0.8296071  0.37764632 0.        ]]\n"
     ]
    }
   ],
   "source": [
    "subent = np.zeros((len_data, 4))\n",
    "for i, x in enumerate(datasets):\n",
    "    att = m.attributes[roots[i]]\n",
    "    for j, v in enumerate(att.values):\n",
    "        subent[i,j] = dt.entropy(dt.select(x, att, v))\n",
    "print(subent)"
   ]
  },
  {
   "cell_type": "markdown",
   "metadata": {},
   "source": [
    "## Assignment 5"
   ]
  },
  {
   "cell_type": "markdown",
   "metadata": {},
   "source": [
    "The nodes at first level of the tree is found by maximizing the information gain of each subset on each value of root. In particular, in MONK1 the nodes corresponding to values of A5 ($[1, 2, 3, 4]$) are null (becoming leaf), A4, A5, A1; in MONK2 they are A3, A3, A3, A2; and in MONK3 with root A2 = $[1, 2, 3]$ they are A5, A5, A4. The leafs (or outcomes = $\\{+, -\\}$ are determined by using `mostCommon` function.\n",
    "\n",
    "All results are the same as the one gotten from ID3 in `buildTree` function."
   ]
  },
  {
   "cell_type": "code",
   "execution_count": 38,
   "metadata": {},
   "outputs": [
    {
     "name": "stdout",
     "output_type": "stream",
     "text": [
      "[[0. 3. 5. 0.]\n",
      " [2. 2. 2. 1.]\n",
      " [4. 4. 3. 0.]]\n",
      "[[True, False, False, False, False, False, False, False, True], [False, True, True, False, False, False, False, False, False], [True, True, True, False, True, True, True, False, False, False, False]]\n"
     ]
    }
   ],
   "source": [
    "nodes_1 = np.zeros((len_data, 4))\n",
    "leaf = []\n",
    "for i, x in enumerate(datasets):\n",
    "    leaf.append([])\n",
    "    att = m.attributes[roots[i]]\n",
    "    for j, v in enumerate(att.values):\n",
    "        subsets = dt.select(x, att, v)\n",
    "        info = np.zeros(len_att)\n",
    "        for k in range(len_att):\n",
    "            info[k] = dt.averageGain(subsets, m.attributes[k])\n",
    "        if np.amax(info)==0:\n",
    "            leaf[i].append(dt.mostCommon(subsets))\n",
    "        else:\n",
    "            nodes_1[i,j] = np.argmax(info)\n",
    "            att_node = m.attributes[np.argmax(info)]\n",
    "            for l, nv in enumerate(att_node.values):\n",
    "                leaf[i].append(dt.mostCommon(dt.select(subsets, att_node, nv)))\n",
    "            \n",
    "print(nodes_1)\n",
    "print(leaf)\n",
    "# mostCommon to find the outcome (+ or -) of each leaf"
   ]
  },
  {
   "cell_type": "code",
   "execution_count": 35,
   "metadata": {
    "scrolled": true
   },
   "outputs": [
    {
     "ename": "SystemExit",
     "evalue": "0",
     "output_type": "error",
     "traceback": [
      "An exception has occurred, use %tb to see the full traceback.\n",
      "\u001b[0;31mSystemExit\u001b[0m\u001b[0;31m:\u001b[0m 0\n"
     ]
    }
   ],
   "source": [
    "#drawt.drawTree(dt.buildTree(m.monk1, m.attributes, 2))\n",
    "#drawt.drawTree(dt.buildTree(m.monk2, m.attributes, 2))\n",
    "drawt.drawTree(dt.buildTree(m.monk3, m.attributes, 2))"
   ]
  },
  {
   "cell_type": "markdown",
   "metadata": {},
   "source": [
    "The set errors for full trees are the subtraction of the performance  gotten by using `check` function from 1. In each data, the performance on trainning dataset is 1, the error is thus 0. These errors on the test datasets are quite lagre in MONK2 and very small in MONK3."
   ]
  },
  {
   "cell_type": "code",
   "execution_count": 8,
   "metadata": {},
   "outputs": [
    {
     "name": "stdout",
     "output_type": "stream",
     "text": [
      "[[0.         0.1712963 ]\n",
      " [0.         0.30787037]\n",
      " [0.         0.05555556]]\n"
     ]
    }
   ],
   "source": [
    "testsets = [m.monk1test, m.monk2test, m.monk3test]\n",
    "err = np.zeros((len_data, 2))\n",
    "for i, x in enumerate(datasets):\n",
    "    t = dt.buildTree(x, m.attributes)\n",
    "    err[i, 0] = 1 - dt.check(t, x)\n",
    "    err[i, 1] = 1 - dt.check(t, testsets[i])\n",
    "print(err)"
   ]
  },
  {
   "cell_type": "markdown",
   "metadata": {},
   "source": [
    "## Assignment 6"
   ]
  },
  {
   "cell_type": "markdown",
   "metadata": {},
   "source": [
    "Pruning from a bias variance trade-off perspective?????????????"
   ]
  },
  {
   "cell_type": "markdown",
   "metadata": {},
   "source": [
    "## Assignment 7"
   ]
  },
  {
   "cell_type": "markdown",
   "metadata": {},
   "source": [
    "The optimal fraction is 0.3 for both MONK1 and MONK3."
   ]
  },
  {
   "cell_type": "code",
   "execution_count": 50,
   "metadata": {},
   "outputs": [
    {
     "data": {
      "image/png": "[encoded data removed]",
      "text/plain": [
       "<Figure size 432x288 with 1 Axes>"
      ]
     },
     "metadata": {
      "needs_background": "light"
     },
     "output_type": "display_data"
    }
   ],
   "source": [
    "n = 1000\n",
    "fraction = np.array([0.3, 0.4, 0.5, 0.6, 0.7, 0.8])\n",
    "err_pr = np.zeros((n,len(fraction)))\n",
    "#t_pr = []\n",
    "for i, v in enumerate(fraction):\n",
    "    for j in range(n):\n",
    "        monk1train, monk1val = partition(m.monk1, v)\n",
    "        t = dt.buildTree(monk1val, m.attributes)\n",
    "    #    t_pr.append(dt.allPruned(t))\n",
    "        err_pr[j,i] = 1 - dt.check(t, m.monk1test)\n",
    "df = pd.DataFrame(err_pr, columns=['0.3', '0.4', '0.5', '0.6', '0.7', '0.8'])\n",
    "ax = sns.boxplot(data = df)\n",
    "plt.ylabel(\"error\", fontsize=15)\n",
    "plt.xlabel(\"fraction\", fontsize=15)\n",
    "plt.show()"
   ]
  },
  {
   "cell_type": "code",
   "execution_count": 51,
   "metadata": {},
   "outputs": [
    {
     "data": {
      "image/png": "[encoded data removed]",
      "text/plain": [
       "<Figure size 432x288 with 1 Axes>"
      ]
     },
     "metadata": {
      "needs_background": "light"
     },
     "output_type": "display_data"
    }
   ],
   "source": [
    "err_pr = np.zeros((n,len(fraction)))\n",
    "#t_pr = []\n",
    "for i, v in enumerate(fraction):\n",
    "    for j in range(n):\n",
    "        monk3train, monk3val = partition(m.monk3, v)\n",
    "        t = dt.buildTree(monk3val, m.attributes)\n",
    "    #    t_pr.append(dt.allPruned(t))\n",
    "        err_pr[j,i] = 1 - dt.check(t, m.monk3test)\n",
    "df = pd.DataFrame(err_pr, columns=['0.3', '0.4', '0.5', '0.6', '0.7', '0.8'])\n",
    "ax = sns.boxplot(data = df)\n",
    "plt.ylabel(\"error\", fontsize=15)\n",
    "plt.xlabel(\"fraction\", fontsize=15)\n",
    "plt.show()"
   ]
  },
  {
   "cell_type": "code",
   "execution_count": null,
   "metadata": {},
   "outputs": [],
   "source": []
  }
 ],
 "metadata": {
  "kernelspec": {
   "display_name": "Python 3",
   "language": "python",
   "name": "python3"
  },
  "language_info": {
   "codemirror_mode": {
    "name": "ipython",
    "version": 3
   },
   "file_extension": ".py",
   "mimetype": "text/x-python",
   "name": "python",
   "nbconvert_exporter": "python",
   "pygments_lexer": "ipython3",
   "version": "3.7.1"
  }
 },
 "nbformat": 4,
 "nbformat_minor": 2
}
