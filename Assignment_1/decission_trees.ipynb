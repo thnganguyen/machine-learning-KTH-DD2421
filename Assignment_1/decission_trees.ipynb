{
 "cells": [
  {
   "cell_type": "code",
   "execution_count": 1,
   "metadata": {},
   "outputs": [],
   "source": [
    "import numpy as np\n",
    "import pandas as pd\n",
    "import monkdata as m\n",
    "import dtree as d\n",
    "from drawtree_qt5 import drawTree"
   ]
  },
  {
   "cell_type": "markdown",
   "metadata": {},
   "source": [
    "## Assignment 1:"
   ]
  },
  {
   "cell_type": "code",
   "execution_count": 23,
   "metadata": {},
   "outputs": [],
   "source": [
    "sample =  m.monk1[0]"
   ]
  },
  {
   "cell_type": "code",
   "execution_count": 28,
   "metadata": {},
   "outputs": [
    {
     "data": {
      "text/plain": [
       "5"
      ]
     },
     "execution_count": 28,
     "metadata": {},
     "output_type": "execute_result"
    }
   ],
   "source": [
    "sample.identity"
   ]
  },
  {
   "cell_type": "code",
   "execution_count": 4,
   "metadata": {},
   "outputs": [
    {
     "name": "stdout",
     "output_type": "stream",
     "text": [
      "1.0\n",
      "0.957\n",
      "1.0\n"
     ]
    }
   ],
   "source": [
    "print(round(d.entropy(m.monk1),3))\n",
    "print(round(d.entropy(m.monk2),3))\n",
    "print(round(d.entropy(m.monk3),3))"
   ]
  },
  {
   "cell_type": "code",
   "execution_count": 5,
   "metadata": {},
   "outputs": [
    {
     "name": "stdout",
     "output_type": "stream",
     "text": [
      "1.0\n",
      "0.914\n",
      "0.998\n"
     ]
    }
   ],
   "source": [
    "print(round(d.entropy(m.monk1test),3))\n",
    "print(round(d.entropy(m.monk2test),3))\n",
    "print(round(d.entropy(m.monk3test),3))"
   ]
  },
  {
   "cell_type": "markdown",
   "metadata": {},
   "source": [
    "## Assignment 3:"
   ]
  },
  {
   "cell_type": "code",
   "execution_count": 2,
   "metadata": {},
   "outputs": [],
   "source": [
    "ig = np.zeros((3, 6))\n",
    "datasets = [m.monk1, m.monk2, m.monk3]\n",
    "for idx, dataset in enumerate(datasets):\n",
    "    for i in range(6):\n",
    "        ag = round(d.averageGain(dataset, m.attributes[i]),3)\n",
    "        ig[idx, i] = ag"
   ]
  },
  {
   "cell_type": "code",
   "execution_count": 3,
   "metadata": {
    "scrolled": true
   },
   "outputs": [
    {
     "data": {
      "text/html": [
       "<div>\n",
       "<style scoped>\n",
       "    .dataframe tbody tr th:only-of-type {\n",
       "        vertical-align: middle;\n",
       "    }\n",
       "\n",
       "    .dataframe tbody tr th {\n",
       "        vertical-align: top;\n",
       "    }\n",
       "\n",
       "    .dataframe thead th {\n",
       "        text-align: right;\n",
       "    }\n",
       "</style>\n",
       "<table border=\"1\" class=\"dataframe\">\n",
       "  <thead>\n",
       "    <tr style=\"text-align: right;\">\n",
       "      <th></th>\n",
       "      <th>A1</th>\n",
       "      <th>A2</th>\n",
       "      <th>A3</th>\n",
       "      <th>A4</th>\n",
       "      <th>A5</th>\n",
       "      <th>A6</th>\n",
       "    </tr>\n",
       "  </thead>\n",
       "  <tbody>\n",
       "    <tr>\n",
       "      <th>monk1</th>\n",
       "      <td>0.075</td>\n",
       "      <td>0.006</td>\n",
       "      <td>0.005</td>\n",
       "      <td>0.026</td>\n",
       "      <td>0.287</td>\n",
       "      <td>0.001</td>\n",
       "    </tr>\n",
       "    <tr>\n",
       "      <th>monk2</th>\n",
       "      <td>0.004</td>\n",
       "      <td>0.002</td>\n",
       "      <td>0.001</td>\n",
       "      <td>0.016</td>\n",
       "      <td>0.017</td>\n",
       "      <td>0.006</td>\n",
       "    </tr>\n",
       "    <tr>\n",
       "      <th>monk3</th>\n",
       "      <td>0.007</td>\n",
       "      <td>0.294</td>\n",
       "      <td>0.001</td>\n",
       "      <td>0.003</td>\n",
       "      <td>0.256</td>\n",
       "      <td>0.007</td>\n",
       "    </tr>\n",
       "  </tbody>\n",
       "</table>\n",
       "</div>"
      ],
      "text/plain": [
       "          A1     A2     A3     A4     A5     A6\n",
       "monk1  0.075  0.006  0.005  0.026  0.287  0.001\n",
       "monk2  0.004  0.002  0.001  0.016  0.017  0.006\n",
       "monk3  0.007  0.294  0.001  0.003  0.256  0.007"
      ]
     },
     "execution_count": 3,
     "metadata": {},
     "output_type": "execute_result"
    }
   ],
   "source": [
    "## For splitting we use the attribute that maximizes the information gain,\n",
    "names = ['A1', 'A2', 'A3', 'A4', 'A5', 'A6']\n",
    "datasets_names = ['monk1', 'monk2', 'monk3']\n",
    "df = pd.DataFrame(ig, index=datasets_names, columns=names)\n",
    "df"
   ]
  },
  {
   "cell_type": "code",
   "execution_count": 4,
   "metadata": {},
   "outputs": [
    {
     "name": "stdout",
     "output_type": "stream",
     "text": [
      "0.287\n",
      "0.017\n",
      "0.294\n"
     ]
    }
   ],
   "source": [
    "## Attribute 5 for monk1 & monk2, attribute 2 for monk3\n",
    "for i in range(3):\n",
    "    print(max(ig[i]))"
   ]
  },
  {
   "cell_type": "code",
   "execution_count": 5,
   "metadata": {},
   "outputs": [
    {
     "name": "stdout",
     "output_type": "stream",
     "text": [
      "False\n",
      "False\n",
      "False\n"
     ]
    }
   ],
   "source": [
    "for dataset in datasets:\n",
    "    print(d.mostCommon(dataset))"
   ]
  },
  {
   "cell_type": "markdown",
   "metadata": {},
   "source": [
    "## Assignment 5:"
   ]
  },
  {
   "cell_type": "code",
   "execution_count": 10,
   "metadata": {},
   "outputs": [
    {
     "data": {
      "text/plain": [
       "{A1: 1, A2: 1, A3: 1, A4: 1, A5: 3, A6: 2}"
      ]
     },
     "execution_count": 10,
     "metadata": {},
     "output_type": "execute_result"
    }
   ],
   "source": [
    "m.monk1[1].attribute"
   ]
  },
  {
   "cell_type": "code",
   "execution_count": 11,
   "metadata": {},
   "outputs": [],
   "source": [
    "sample = m.monk1[0]"
   ]
  },
  {
   "cell_type": "code",
   "execution_count": 12,
   "metadata": {},
   "outputs": [
    {
     "data": {
      "text/plain": [
       "1"
      ]
     },
     "execution_count": 12,
     "metadata": {},
     "output_type": "execute_result"
    }
   ],
   "source": [
    "sample.attribute[m.attributes[2]]"
   ]
  },
  {
   "cell_type": "code",
   "execution_count": 42,
   "metadata": {},
   "outputs": [
    {
     "data": {
      "text/plain": [
       "[]"
      ]
     },
     "execution_count": 42,
     "metadata": {},
     "output_type": "execute_result"
    }
   ],
   "source": [
    "monk1_a5_v4_t"
   ]
  },
  {
   "cell_type": "code",
   "execution_count": 43,
   "metadata": {},
   "outputs": [],
   "source": [
    "monk1_a5_v4_t = d.select(m.monk1, m.attributes[4], 4)"
   ]
  },
  {
   "cell_type": "code",
   "execution_count": 12,
   "metadata": {},
   "outputs": [
    {
     "data": {
      "text/plain": [
       "4"
      ]
     },
     "execution_count": 12,
     "metadata": {},
     "output_type": "execute_result"
    }
   ],
   "source": [
    "len(datasets_a5)"
   ]
  },
  {
   "cell_type": "code",
   "execution_count": 25,
   "metadata": {},
   "outputs": [],
   "source": [
    "def average_gain_matrix(dataset_list_names):\n",
    "    ig = np.zeros((len(dataset_list_names), 6))\n",
    "    for idx, dataset_name in enumerate(dataset_list_names):\n",
    "        for i in range(6):\n",
    "            ag_dataset = round(d.averageGain(dataset_name, m.attributes[i]),3)\n",
    "            ig[idx, i] = ag_dataset\n",
    "            return ig\n",
    "    "
   ]
  },
  {
   "cell_type": "code",
   "execution_count": 22,
   "metadata": {},
   "outputs": [
    {
     "data": {
      "text/plain": [
       "4"
      ]
     },
     "execution_count": 22,
     "metadata": {},
     "output_type": "execute_result"
    }
   ],
   "source": [
    "len(datasets_a5)"
   ]
  },
  {
   "cell_type": "code",
   "execution_count": 26,
   "metadata": {
    "scrolled": true
   },
   "outputs": [
    {
     "data": {
      "text/plain": [
       "array([[0., 0., 0., 0., 0., 0.],\n",
       "       [0., 0., 0., 0., 0., 0.],\n",
       "       [0., 0., 0., 0., 0., 0.],\n",
       "       [0., 0., 0., 0., 0., 0.]])"
      ]
     },
     "execution_count": 26,
     "metadata": {},
     "output_type": "execute_result"
    }
   ],
   "source": [
    "average_gain_matrix(datasets_a5)"
   ]
  },
  {
   "cell_type": "code",
   "execution_count": 27,
   "metadata": {},
   "outputs": [],
   "source": [
    "monk1_a5_v1 = d.select(m.monk1, m.attributes[4], 1)\n",
    "monk1_a5_v2 = d.select(m.monk1, m.attributes[4], 2)\n",
    "monk1_a5_v3 = d.select(m.monk1, m.attributes[4], 3)\n",
    "monk1_a5_v4 = d.select(m.monk1, m.attributes[4], 4)\n",
    "\n",
    "datasets_a5 = [monk1_a5_v1, monk1_a5_v2, monk1_a5_v3, monk1_a5_v4]\n",
    "ig_a5 = np.zeros((4, 6))\n",
    "for idx, dataset_a5 in enumerate(datasets_a5):\n",
    "    for i in range(6):\n",
    "        ag_monk1_a5 = round(d.averageGain(dataset_a5, m.attributes[i]),3)\n",
    "        ig_a5[idx, i] = ag_monk1_a5"
   ]
  },
  {
   "cell_type": "code",
   "execution_count": 28,
   "metadata": {},
   "outputs": [
    {
     "data": {
      "text/plain": [
       "array([[0.   , 0.   , 0.   , 0.   , 0.   , 0.   ],\n",
       "       [0.04 , 0.015, 0.037, 0.049, 0.   , 0.026],\n",
       "       [0.033, 0.002, 0.018, 0.019, 0.   , 0.045],\n",
       "       [0.206, 0.034, 0.026, 0.076, 0.   , 0.003]])"
      ]
     },
     "execution_count": 28,
     "metadata": {},
     "output_type": "execute_result"
    }
   ],
   "source": [
    "ig_a5"
   ]
  },
  {
   "cell_type": "code",
   "execution_count": 44,
   "metadata": {},
   "outputs": [],
   "source": [
    "monk1_a5_v4_tree=d.buildTree(monk1_a5_v4_t, m.attributes)"
   ]
  },
  {
   "cell_type": "code",
   "execution_count": 45,
   "metadata": {},
   "outputs": [
    {
     "ename": "SystemExit",
     "evalue": "0",
     "output_type": "error",
     "traceback": [
      "An exception has occurred, use %tb to see the full traceback.\n",
      "\u001b[0;31mSystemExit\u001b[0m\u001b[0;31m:\u001b[0m 0\n"
     ]
    }
   ],
   "source": [
    "drawTree(monk1_a5_v4_tree)"
   ]
  },
  {
   "cell_type": "code",
   "execution_count": 15,
   "metadata": {},
   "outputs": [
    {
     "name": "stdout",
     "output_type": "stream",
     "text": [
      "True\n"
     ]
    }
   ],
   "source": [
    "print(d.mostCommon(monk1_a5_v1))"
   ]
  },
  {
   "cell_type": "code",
   "execution_count": 10,
   "metadata": {},
   "outputs": [
    {
     "name": "stdout",
     "output_type": "stream",
     "text": [
      "0.107\n",
      "0.198\n",
      "0.007\n",
      "0.037\n",
      "0.0\n",
      "0.0\n"
     ]
    }
   ],
   "source": [
    "monk1_a5_a6_v2 = d.select(monk1_a5_v2, m.attributes[5], 1)\n",
    "for i in range(6):\n",
    "    print(round(d.averageGain(monk1_a5_a6_v2, m.attributes[i]),3))"
   ]
  },
  {
   "cell_type": "code",
   "execution_count": 16,
   "metadata": {},
   "outputs": [
    {
     "name": "stdout",
     "output_type": "stream",
     "text": [
      "0.0\n",
      "0.0\n",
      "0.0\n",
      "0.0\n",
      "0.0\n",
      "0.0\n"
     ]
    }
   ],
   "source": [
    "monk1_a5_a6_v1 = d.select(monk1_a5_v1, m.attributes[5], 1)\n",
    "for i in range(6):\n",
    "    print(round(d.averageGain(monk1_a5_a6_v1, m.attributes[i]),3))"
   ]
  },
  {
   "cell_type": "code",
   "execution_count": 17,
   "metadata": {},
   "outputs": [
    {
     "name": "stdout",
     "output_type": "stream",
     "text": [
      "True\n"
     ]
    }
   ],
   "source": [
    "print(d.mostCommon(monk1_a5_a6_v1))"
   ]
  },
  {
   "cell_type": "markdown",
   "metadata": {},
   "source": [
    "### Full Decision Trees:"
   ]
  },
  {
   "cell_type": "code",
   "execution_count": 33,
   "metadata": {},
   "outputs": [
    {
     "data": {
      "text/plain": [
       "{'monk1': 0.829, 'monk2': 0.692, 'monk3': 0.509}"
      ]
     },
     "execution_count": 33,
     "metadata": {},
     "output_type": "execute_result"
    }
   ],
   "source": [
    "# if we don't set the depth value we will be overfitting.\n",
    "t_monk1=d.buildTree(m.monk1, m.attributes)\n",
    "t_monk2=d.buildTree(m.monk2, m.attributes)\n",
    "t_monk3=d.buildTree(m.monk3, m.attributes)\n",
    "\n",
    "tree_ms = ['monk1', 'monk2', 'monk3']\n",
    "tree_names = [t_monk1, t_monk2, t_monk1]\n",
    "test_datasets = [m.monk1test, m.monk2test, m.monk3test]\n",
    "train_datasets = [m.monk1, m.monk2, m.monk3]\n",
    "check = {}\n",
    "check_train = {}\n",
    "\n",
    "#Measure fraction of correctly classified samples\n",
    "for tree_m, tree_name, test_dataset in zip(tree_ms, tree_names, test_datasets):   \n",
    "    check[tree_m] = round(d.check(tree_name, test_dataset),3)\n",
    "check\n",
    "\n"
   ]
  },
  {
   "cell_type": "code",
   "execution_count": 32,
   "metadata": {},
   "outputs": [
    {
     "data": {
      "text/plain": [
       "{'monk1': 1.0, 'monk2': 1.0, 'monk3': 0.533}"
      ]
     },
     "execution_count": 32,
     "metadata": {},
     "output_type": "execute_result"
    }
   ],
   "source": [
    "for tree_m, tree_name, train_dataset in zip(tree_ms, tree_names, train_datasets):   \n",
    "    check_train[tree_m] = round(d.check(tree_name, train_dataset),3)\n",
    "check_train"
   ]
  },
  {
   "cell_type": "code",
   "execution_count": 29,
   "metadata": {},
   "outputs": [],
   "source": [
    "t_monk1_2=d.buildTree(m.monk1, m.attributes,2)"
   ]
  },
  {
   "cell_type": "code",
   "execution_count": 30,
   "metadata": {
    "scrolled": true
   },
   "outputs": [
    {
     "ename": "SystemExit",
     "evalue": "0",
     "output_type": "error",
     "traceback": [
      "An exception has occurred, use %tb to see the full traceback.\n",
      "\u001b[0;31mSystemExit\u001b[0m\u001b[0;31m:\u001b[0m 0\n"
     ]
    },
    {
     "name": "stderr",
     "output_type": "stream",
     "text": [
      "/anaconda3/lib/python3.7/site-packages/IPython/core/interactiveshell.py:3275: UserWarning: To exit: use 'exit', 'quit', or Ctrl-D.\n",
      "  warn(\"To exit: use 'exit', 'quit', or Ctrl-D.\", stacklevel=1)\n"
     ]
    }
   ],
   "source": [
    "drawTree(t_monk1_2)"
   ]
  },
  {
   "cell_type": "code",
   "execution_count": 19,
   "metadata": {},
   "outputs": [
    {
     "data": {
      "text/plain": [
       "{'monk1': 0.171, 'monk2': 0.308, 'monk3': 0.491}"
      ]
     },
     "execution_count": 19,
     "metadata": {},
     "output_type": "execute_result"
    }
   ],
   "source": [
    "# Measure fraction of incorrectly classified samples\n",
    "check_e = {}\n",
    "for tree_m, tree_name, test_dataset in zip(tree_ms, tree_names, test_datasets):   \n",
    "    check_e[tree_m] = round((1-(d.check(tree_name, test_dataset))),3)\n",
    "check_e"
   ]
  },
  {
   "cell_type": "code",
   "execution_count": 20,
   "metadata": {},
   "outputs": [
    {
     "data": {
      "text/plain": [
       "{'monk1': 0.829, 'monk2': 0.692, 'monk3': 0.509}"
      ]
     },
     "execution_count": 20,
     "metadata": {},
     "output_type": "execute_result"
    }
   ],
   "source": [
    "check"
   ]
  },
  {
   "cell_type": "code",
   "execution_count": 22,
   "metadata": {
    "scrolled": true
   },
   "outputs": [
    {
     "ename": "SystemExit",
     "evalue": "0",
     "output_type": "error",
     "traceback": [
      "An exception has occurred, use %tb to see the full traceback.\n",
      "\u001b[0;31mSystemExit\u001b[0m\u001b[0;31m:\u001b[0m 0\n"
     ]
    },
    {
     "name": "stderr",
     "output_type": "stream",
     "text": [
      "/anaconda3/lib/python3.7/site-packages/IPython/core/interactiveshell.py:3275: UserWarning: To exit: use 'exit', 'quit', or Ctrl-D.\n",
      "  warn(\"To exit: use 'exit', 'quit', or Ctrl-D.\", stacklevel=1)\n"
     ]
    }
   ],
   "source": [
    "drawTree(t_monk1)"
   ]
  },
  {
   "cell_type": "code",
   "execution_count": null,
   "metadata": {},
   "outputs": [],
   "source": []
  }
 ],
 "metadata": {
  "kernelspec": {
   "display_name": "Python 3",
   "language": "python",
   "name": "python3"
  },
  "language_info": {
   "codemirror_mode": {
    "name": "ipython",
    "version": 3
   },
   "file_extension": ".py",
   "mimetype": "text/x-python",
   "name": "python",
   "nbconvert_exporter": "python",
   "pygments_lexer": "ipython3",
   "version": "3.7.1"
  }
 },
 "nbformat": 4,
 "nbformat_minor": 2
}
