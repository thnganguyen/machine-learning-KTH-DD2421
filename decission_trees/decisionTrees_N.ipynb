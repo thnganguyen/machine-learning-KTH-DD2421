{
 "cells": [
  {
   "cell_type": "code",
   "execution_count": 1,
   "metadata": {},
   "outputs": [],
   "source": [
    "import seaborn as sns\n",
    "import matplotlib.pyplot as plt\n",
    "import monkdata as m\n",
    "import numpy as np\n",
    "import dtree as dt\n",
    "import pandas as pd\n",
    "import drawtree_qt5 as drawt\n",
    "import random"
   ]
  },
  {
   "cell_type": "code",
   "execution_count": 24,
   "metadata": {},
   "outputs": [],
   "source": [
    "def partition(data, fraction):\n",
    "    ldata = list(data)\n",
    "    random.shuffle(ldata)\n",
    "    breakPoint = int(len(ldata) * fraction)\n",
    "    return ldata[:breakPoint], ldata[breakPoint:]"
   ]
  },
  {
   "cell_type": "markdown",
   "metadata": {},
   "source": [
    "## Assignment 0"
   ]
  },
  {
   "cell_type": "markdown",
   "metadata": {},
   "source": [
    "## Assignment 1"
   ]
  },
  {
   "cell_type": "markdown",
   "metadata": {},
   "source": [
    "Entropy of the training set of each dataset MONK1, MONK2, MONK3 respectively."
   ]
  },
  {
   "cell_type": "code",
   "execution_count": 22,
   "metadata": {},
   "outputs": [
    {
     "name": "stdout",
     "output_type": "stream",
     "text": [
      "[1.      0.95712 0.99981]\n"
     ]
    }
   ],
   "source": [
    "datasets = [m.monk1, m.monk2, m.monk3]\n",
    "ent = np.zeros(len(datasets))\n",
    "for i, v in enumerate(datasets):\n",
    "    ent[i] = dt.entropy(v)\n",
    "print(np.around(ent, decimals=5))"
   ]
  },
  {
   "cell_type": "markdown",
   "metadata": {},
   "source": [
    "## Assignment 2"
   ]
  },
  {
   "cell_type": "markdown",
   "metadata": {},
   "source": [
    "An example of the entropy of a uniform distribution and non-uniform distribution in which the samples are created from binomial sampling with probability p = 0.5 for the uniform set and p = 0.1 for the non-uniform set.\n",
    "\n",
    "The value of entropy in the case of p = 0.5 is close to 1 while it is smaller than 0.5 in the other case."
   ]
  },
  {
   "cell_type": "code",
   "execution_count": 32,
   "metadata": {},
   "outputs": [
    {
     "name": "stdout",
     "output_type": "stream",
     "text": [
      "0.492\n",
      "0.9998153271549207\n"
     ]
    }
   ],
   "source": [
    "np.random.seed(123)\n",
    "uset = np.random.binomial(1, .5, 1000)\n",
    "p_u = sum(uset)/len(uset)\n",
    "print(p_u)\n",
    "ent_uset = -p_u*np.log2(p_u) - (1-p_u)*np.log2(1-p_u)\n",
    "print(ent_uset)"
   ]
  },
  {
   "cell_type": "code",
   "execution_count": 33,
   "metadata": {},
   "outputs": [
    {
     "name": "stdout",
     "output_type": "stream",
     "text": [
      "0.106\n",
      "0.48773158354050183\n"
     ]
    }
   ],
   "source": [
    "eset = np.random.binomial(1, .1, 1000)\n",
    "p_e = sum(eset)/len(eset)\n",
    "print(p_e)\n",
    "ent_eset = -p_e*np.log2(p_e) - (1-p_e)*np.log2(1-p_e)\n",
    "print(ent_eset)"
   ]
  },
  {
   "cell_type": "markdown",
   "metadata": {},
   "source": [
    "## Assignment 3"
   ]
  },
  {
   "cell_type": "markdown",
   "metadata": {},
   "source": [
    "Based on the information gain (Gain), the attribute which has maximum Gain value should be used for splitting the data at the root node. In particular, A5 in MONK1 dataset, A5 in MONK2 and A2 in MONK3 should be roots."
   ]
  },
  {
   "cell_type": "code",
   "execution_count": 20,
   "metadata": {},
   "outputs": [
    {
     "name": "stdout",
     "output_type": "stream",
     "text": [
      "[[0.07527 0.00584 0.00471 0.02631 0.28703 0.00076]\n",
      " [0.00376 0.00246 0.00106 0.01566 0.01728 0.00625]\n",
      " [0.00712 0.29374 0.00083 0.00289 0.25591 0.00708]]\n",
      "[[0.92473 0.99416 0.99529 0.97369 0.71297 0.99924]\n",
      " [0.95336 0.95466 0.95606 0.94145 0.93984 0.95087]\n",
      " [0.99269 0.70607 0.99898 0.99691 0.74389 0.99273]]\n"
     ]
    }
   ],
   "source": [
    "len_data = len(datasets)\n",
    "len_att = len(m.attributes)\n",
    "info = np.zeros((len_data, len_att))\n",
    "for i, v in enumerate(datasets):\n",
    "    for j in range(len(m.attributes)):\n",
    "        info[i,j] = dt.averageGain(v, m.attributes[j])\n",
    "print(np.around(info, decimals=5))\n",
    "print(np.around((ent.transpose() - info.transpose()).transpose(), decimals=5))"
   ]
  },
  {
   "cell_type": "code",
   "execution_count": 21,
   "metadata": {},
   "outputs": [
    {
     "name": "stdout",
     "output_type": "stream",
     "text": [
      "[4 4 1]\n"
     ]
    }
   ],
   "source": [
    "roots = np.argmax(info, axis=1)\n",
    "print(roots)"
   ]
  },
  {
   "cell_type": "markdown",
   "metadata": {},
   "source": [
    "## Assignment 4"
   ]
  },
  {
   "cell_type": "markdown",
   "metadata": {},
   "source": [
    "The entropy of the subsets $S_k$ should be small???????????\n",
    "\n",
    "Motivate using the information gain to pick an attribute for splitting?????????"
   ]
  },
  {
   "cell_type": "code",
   "execution_count": 6,
   "metadata": {},
   "outputs": [
    {
     "name": "stdout",
     "output_type": "stream",
     "text": [
      "[[0.89445 0.99836 0.87796 0.     ]\n",
      " [0.98523 0.99836 0.99706 0.     ]\n",
      " [0.99573 0.99481 0.      0.     ]\n",
      " [0.95871 0.96124 0.99961 0.     ]\n",
      " [0.      0.93832 0.94808 0.90818]\n",
      " [0.99908 0.99938 0.      0.     ]]\n",
      "[[0.9183  0.96215 0.9806  0.     ]\n",
      " [0.92994 0.9779  0.95261 0.     ]\n",
      " [0.96952 0.94307 0.      0.     ]\n",
      " [0.85241 0.97512 0.99048 0.     ]\n",
      " [0.91035 1.      0.96334 0.87796]\n",
      " [0.9183  0.98306 0.      0.     ]]\n",
      "[[0.99498 0.98371 1.      0.     ]\n",
      " [0.9183  0.82961 0.37765 0.     ]\n",
      " [0.99983 0.998   0.      0.     ]\n",
      " [0.9982  0.99199 1.      0.     ]\n",
      " [0.89604 0.90717 0.98523 0.20559]\n",
      " [0.98982 0.99545 0.      0.     ]]\n"
     ]
    }
   ],
   "source": [
    "for i, x in enumerate(datasets):\n",
    "#    att = m.attributes[roots[i]]\n",
    "    subent = np.zeros((6, 4))\n",
    "    for k, att in enumerate(m.attributes):\n",
    "        for j, v in enumerate(att.values):\n",
    "            subent[k,j] = round(dt.entropy(dt.select(x, att, v)),5)\n",
    "    print(subent)"
   ]
  },
  {
   "cell_type": "markdown",
   "metadata": {},
   "source": [
    "## Assignment 5"
   ]
  },
  {
   "cell_type": "markdown",
   "metadata": {},
   "source": [
    "The nodes at first level of the tree is found by maximizing the information gain of each subset on each value of root. In particular, in MONK1 the nodes corresponding to values of A5 ($[1, 2, 3, 4]$) are null (becoming leaf), A4, A5, A1; in MONK2 they are A3, A3, A3, A2; and in MONK3 with root A2 = $[1, 2, 3]$ they are A5, A5, A4. The leafs (or outcomes = $\\{+, -\\}$ are determined by using `mostCommon` function.\n",
    "\n",
    "All results are the same as the one gotten from ID3 in `buildTree` function."
   ]
  },
  {
   "cell_type": "code",
   "execution_count": 38,
   "metadata": {},
   "outputs": [
    {
     "name": "stdout",
     "output_type": "stream",
     "text": [
      "[[0. 3. 5. 0.]\n",
      " [2. 2. 2. 1.]\n",
      " [4. 4. 3. 0.]]\n",
      "[[True, False, False, False, False, False, False, False, True], [False, True, True, False, False, False, False, False, False], [True, True, True, False, True, True, True, False, False, False, False]]\n"
     ]
    }
   ],
   "source": [
    "nodes_1 = np.zeros((len_data, 4))\n",
    "leaf = []\n",
    "for i, x in enumerate(datasets):\n",
    "    leaf.append([])\n",
    "    att = m.attributes[roots[i]]\n",
    "    for j, v in enumerate(att.values):\n",
    "        subsets = dt.select(x, att, v)\n",
    "        info = np.zeros(len_att)\n",
    "        for k in range(len_att):\n",
    "            info[k] = dt.averageGain(subsets, m.attributes[k])\n",
    "        if np.amax(info)==0:\n",
    "            leaf[i].append(dt.mostCommon(subsets))\n",
    "        else:\n",
    "            nodes_1[i,j] = np.argmax(info)\n",
    "            att_node = m.attributes[np.argmax(info)]\n",
    "            for l, nv in enumerate(att_node.values):\n",
    "                leaf[i].append(dt.mostCommon(dt.select(subsets, att_node, nv)))\n",
    "            \n",
    "print(nodes_1)\n",
    "print(leaf)\n",
    "# mostCommon to find the outcome (+ or -) of each leaf"
   ]
  },
  {
   "cell_type": "code",
   "execution_count": null,
   "metadata": {
    "scrolled": true
   },
   "outputs": [],
   "source": [
    "#drawt.drawTree(dt.buildTree(m.monk1, m.attributes, 2))\n",
    "drawt.drawTree(dt.buildTree(m.monk2, m.attributes))\n",
    "#drawt.drawTree(dt.buildTree(m.monk3, m.attributes, 2))"
   ]
  },
  {
   "cell_type": "markdown",
   "metadata": {},
   "source": [
    "The set errors for full trees are the subtraction of the performance  gotten by using `check` function from 1. In each data, the performance on trainning dataset is 1, the error is thus 0. These errors on the test datasets are quite lagre in MONK2 and very small in MONK3."
   ]
  },
  {
   "cell_type": "code",
   "execution_count": 8,
   "metadata": {},
   "outputs": [
    {
     "name": "stdout",
     "output_type": "stream",
     "text": [
      "[[0.         0.1712963 ]\n",
      " [0.         0.30787037]\n",
      " [0.         0.05555556]]\n"
     ]
    }
   ],
   "source": [
    "testsets = [m.monk1test, m.monk2test, m.monk3test]\n",
    "err = np.zeros((len_data, 2))\n",
    "for i, x in enumerate(datasets):\n",
    "    t = dt.buildTree(x, m.attributes)\n",
    "    err[i, 0] = 1 - dt.check(t, x)\n",
    "    err[i, 1] = 1 - dt.check(t, testsets[i])\n",
    "print(err)"
   ]
  },
  {
   "cell_type": "markdown",
   "metadata": {},
   "source": [
    "## Assignment 6"
   ]
  },
  {
   "cell_type": "markdown",
   "metadata": {},
   "source": [
    "Pruning from a bias variance trade-off perspective?????????????"
   ]
  },
  {
   "cell_type": "markdown",
   "metadata": {},
   "source": [
    "## Assignment 7"
   ]
  },
  {
   "cell_type": "markdown",
   "metadata": {},
   "source": [
    "The optimal fraction seems being 0.7 for both MONK1 and MONK3."
   ]
  },
  {
   "cell_type": "code",
   "execution_count": 36,
   "metadata": {},
   "outputs": [
    {
     "data": {
      "image/png": "[encoded data removed]",
      "text/plain": [
       "<Figure size 432x288 with 1 Axes>"
      ]
     },
     "metadata": {
      "needs_background": "light"
     },
     "output_type": "display_data"
    }
   ],
   "source": [
    "random.seed(123)\n",
    "n = 50\n",
    "fraction = np.array([0.3, 0.4, 0.5, 0.6, 0.7, 0.8])\n",
    "bestE1 = np.zeros((n, len(fraction)))\n",
    "for i in range(n):\n",
    "    for j, v in enumerate(fraction):\n",
    "        monk1train, monk1val = partition(m.monk1, v)\n",
    "        t0 = dt.buildTree(monk1train, m.attributes)\n",
    "        acc0 = dt.check(t0, monk1val)\n",
    "        prunedTrees = dt.allPruned(t0)\n",
    "        acc = [dt.check(t, monk1val) for t in prunedTrees]\n",
    "        vmax = max(acc)\n",
    "        while vmax>=acc0:\n",
    "            t0 = prunedTrees[acc.index(vmax)]\n",
    "            acc0 = vmax\n",
    "            prunedTrees = dt.allPruned(t0)\n",
    "            acc = [dt.check(t, monk1val) for t in prunedTrees]\n",
    "            vmax = max(acc)\n",
    "        bestE1[i,j] = 1 - dt.check(t0, m.monk1test)\n",
    "#print(bestE1)\n",
    "plt.errorbar(fraction, bestE1.mean(0), yerr=bestE1.std(0), marker='o')\n",
    "plt.ylabel(\"error\", fontsize=15)\n",
    "plt.xlabel(\"fraction\", fontsize=15)\n",
    "plt.show()"
   ]
  },
  {
   "cell_type": "code",
   "execution_count": 39,
   "metadata": {},
   "outputs": [
    {
     "data": {
      "image/png": "[encoded data removed]",
      "text/plain": [
       "<Figure size 432x288 with 1 Axes>"
      ]
     },
     "metadata": {
      "needs_background": "light"
     },
     "output_type": "display_data"
    }
   ],
   "source": [
    "random.seed(123)\n",
    "n = 50\n",
    "fraction = np.array([0.3, 0.4, 0.5, 0.6, 0.7, 0.8])\n",
    "bestE3 = np.zeros((n, len(fraction)))\n",
    "for i in range(n):\n",
    "    for j, v in enumerate(fraction):\n",
    "        monk3train, monk3val = partition(m.monk3, v)\n",
    "        t0 = dt.buildTree(monk3train, m.attributes)\n",
    "        acc0 = dt.check(t0, monk3val)\n",
    "        prunedTrees = dt.allPruned(t0)\n",
    "        acc = [dt.check(t, monk3val) for t in prunedTrees]\n",
    "        vmax = max(acc)\n",
    "        while vmax>=acc0:\n",
    "            t0 = prunedTrees[acc.index(vmax)]\n",
    "            acc0 = vmax\n",
    "            prunedTrees = dt.allPruned(t0)\n",
    "            acc = [dt.check(t, monk3val) for t in prunedTrees]\n",
    "            vmax = max(acc)\n",
    "        bestE3[i,j] = 1 - dt.check(t0, m.monk3test)\n",
    "#print(bestE3)\n",
    "plt.errorbar(fraction, bestE3.mean(0), yerr=bestE3.std(0), marker='o')\n",
    "plt.ylabel(\"error\", fontsize=15)\n",
    "plt.xlabel(\"fraction\", fontsize=15)\n",
    "plt.show()"
   ]
  },
  {
   "cell_type": "code",
   "execution_count": null,
   "metadata": {},
   "outputs": [],
   "source": []
  }
 ],
 "metadata": {
  "kernelspec": {
   "display_name": "Python 3",
   "language": "python",
   "name": "python3"
  },
  "language_info": {
   "codemirror_mode": {
    "name": "ipython",
    "version": 3
   },
   "file_extension": ".py",
   "mimetype": "text/x-python",
   "name": "python",
   "nbconvert_exporter": "python",
   "pygments_lexer": "ipython3",
   "version": "3.7.1"
  }
 },
 "nbformat": 4,
 "nbformat_minor": 2
}
