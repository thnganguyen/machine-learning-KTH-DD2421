{
 "cells": [
  {
   "cell_type": "code",
   "execution_count": 2,
   "metadata": {},
   "outputs": [],
   "source": [
    "import numpy, random, math\n",
    "from scipy.optimize import minimize\n",
    "import matplotlib.pyplot as plt"
   ]
  },
  {
   "cell_type": "code",
   "execution_count": 3,
   "metadata": {},
   "outputs": [],
   "source": [
    "def kernels(x, y, fun='linear', paras=1):\n",
    "    if len(x)!=len(y):\n",
    "        print('2 objects should be have same length!')\n",
    "        return 0\n",
    "    if fun=='poly':\n",
    "        return (numpy.dot(x,y)+1)**paras\n",
    "    if fun=='RBF':\n",
    "        return numpy.exp(-numpy.dot(x-y,x-y)/(2*paras*paras))\n",
    "    return numpy.dot(x,y)"
   ]
  },
  {
   "cell_type": "code",
   "execution_count": 4,
   "metadata": {},
   "outputs": [],
   "source": [
    "def objective(alpha):\n",
    "    # alpha is 1xn array or list\n",
    "    if not isinstance(alpha, numpy.ndarray):\n",
    "        alpha = numpy.array(alpha)\n",
    "    return numpy.dot(alpha, numpy.dot(alpha, P))/2 - numpy.sum(alpha)"
   ]
  },
  {
   "cell_type": "code",
   "execution_count": 5,
   "metadata": {},
   "outputs": [],
   "source": [
    "def zerofun(alpha):\n",
    "    if not isinstance(alpha, numpy.ndarray):\n",
    "        alpha = numpy.array(alpha)\n",
    "    return numpy.dot(alpha, targets)"
   ]
  },
  {
   "cell_type": "code",
   "execution_count": 6,
   "metadata": {},
   "outputs": [],
   "source": [
    "def extract_nonzeros():\n",
    "    return [inputs[(alpha>10**(-5))&(alpha<C-10**(-5)),:], \n",
    "            targets[(alpha>10**(-5))&(alpha<C-10**(-5))], \n",
    "            alpha[(alpha>10**(-5))&(alpha<C-10**(-5))]]"
   ]
  },
  {
   "cell_type": "code",
   "execution_count": 7,
   "metadata": {},
   "outputs": [],
   "source": [
    "def find_b(index_sv):\n",
    "    return numpy.dot(alpha*targets, \n",
    "              numpy.array([kernels(sv[0][index_sv,:],xi,fun,paras) for xi in inputs])) - sv[1][index_sv]"
   ]
  },
  {
   "cell_type": "code",
   "execution_count": 8,
   "metadata": {},
   "outputs": [],
   "source": [
    "def indicator(s):\n",
    "    return numpy.dot(alpha*targets, numpy.array([kernels(s,xi,fun,paras) for xi in inputs])) - b"
   ]
  },
  {
   "cell_type": "code",
   "execution_count": 50,
   "metadata": {},
   "outputs": [],
   "source": [
    "# Generate Test Data\n",
    "def generate_data(var1, var2, var3, pos1, pos2, pos3):\n",
    "    classA = numpy.concatenate((numpy.random.randn(10, 2) * var1 + pos1,\n",
    "                               numpy.random.randn(10, 2) * var2 + pos2))\n",
    "    classB = numpy.random.randn(20, 2) * var3 + pos3\n",
    "\n",
    "    inputs = numpy.concatenate((classA, classB))\n",
    "    targets = numpy.concatenate((numpy.ones(classA.shape[0]), -numpy.ones(classB.shape[0])))\n",
    "\n",
    "    N = inputs.shape[0]\n",
    "\n",
    "    permute = list(range(N))\n",
    "    random.shuffle(permute)\n",
    "    inputs = inputs[permute, :]\n",
    "    targets = targets[permute]\n",
    "    return inputs, targets, classA, classB\n",
    "\n",
    "numpy.random.seed(100)\n",
    "inputs, targets, classA, classB = generate_data(0.2, 0.2, 0.5 ,[1.5, 0.2], [-1.5, 0.2], [0.0, -0.5])"
   ]
  },
  {
   "cell_type": "code",
   "execution_count": 281,
   "metadata": {},
   "outputs": [],
   "source": [
    "def myfun_sin(x):\n",
    "    return 0.5*(numpy.sin(3*x) - 0.3*x + 0.3) + numpy.random.randn()*0.1"
   ]
  },
  {
   "cell_type": "code",
   "execution_count": 228,
   "metadata": {},
   "outputs": [],
   "source": [
    "def myfun_parabolA(x):\n",
    "    return -x**2 + 1 + numpy.random.randn()*0.05"
   ]
  },
  {
   "cell_type": "code",
   "execution_count": 229,
   "metadata": {},
   "outputs": [],
   "source": [
    "def myfun_parabolB(x):\n",
    "    return x**2/2 - 0.3 + numpy.random.randn()*0.05"
   ]
  },
  {
   "cell_type": "code",
   "execution_count": 282,
   "metadata": {},
   "outputs": [],
   "source": [
    "# Generate a difficult to separate data\n",
    "def datasetA(size):\n",
    "    x = numpy.array([numpy.random.rand()*2.0-1.0 for i in range(int(size/2))])\n",
    "    classA = numpy.concatenate((numpy.array([[xi, myfun_parabolA(xi)] for xi in x]),\n",
    "                                numpy.random.randn(20, 2) * 0.2 + [0.25, 0.25]))\n",
    "    classB = numpy.array([[xi, -myfun_sin(xi)] for xi in x])\n",
    "    \n",
    "    inputs = numpy.concatenate((classA, classB))\n",
    "    targets = numpy.concatenate((numpy.ones(classA.shape[0]), -numpy.ones(classB.shape[0])))\n",
    "\n",
    "    N = inputs.shape[0]\n",
    "\n",
    "    permute = list(range(N))\n",
    "    random.shuffle(permute)\n",
    "    inputs = inputs[permute, :]\n",
    "    targets = targets[permute]\n",
    "    return inputs, targets, classA, classB"
   ]
  },
  {
   "cell_type": "code",
   "execution_count": 283,
   "metadata": {},
   "outputs": [],
   "source": [
    "numpy.random.seed(100)\n",
    "inputs, targets, classA, classB = datasetA(200)"
   ]
  },
  {
   "cell_type": "code",
   "execution_count": 284,
   "metadata": {},
   "outputs": [
    {
     "data": {
      "image/png": "[encoded data removed]",
      "text/plain": [
       "<Figure size 432x288 with 1 Axes>"
      ]
     },
     "metadata": {
      "needs_background": "light"
     },
     "output_type": "display_data"
    }
   ],
   "source": [
    "# Plotting\n",
    "plt.plot([p[0] for p in classA], [p[1] for p in classA], 'b.')\n",
    "plt.plot([p[0] for p in classB], [p[1] for p in classB], 'r.')\n",
    "\n",
    "plt.axis('equal')\n",
    "#plt.savefig('svmplot_1.pdf')\n",
    "plt.show()"
   ]
  },
  {
   "cell_type": "code",
   "execution_count": 291,
   "metadata": {},
   "outputs": [
    {
     "name": "stdout",
     "output_type": "stream",
     "text": [
      "[799.33633164 102.04040877 125.73436491  46.35459549 218.37174951\n",
      " 851.53201569 989.55726455  61.10301047]\n",
      "-111.6141792902215\n"
     ]
    }
   ],
   "source": [
    "fun = 'poly'\n",
    "paras = 3\n",
    "C = 1000\n",
    "N = inputs.shape[0]\n",
    "K = numpy.array([[kernels(xi, xj, fun, paras) for xi in inputs] for xj in inputs])\n",
    "\n",
    "P = numpy.outer(targets,targets)*K\n",
    "\n",
    "ret = minimize(objective, numpy.zeros(N), bounds=[(0,C) for b in range(N)], \n",
    "               constraints={'type':'eq', 'fun':zerofun})\n",
    "alpha = ret['x']\n",
    "\n",
    "sv = extract_nonzeros()\n",
    "# alpha get from minimize strictly set C if is is over C\n",
    "print(sv[2])\n",
    "isv = 0\n",
    "b = find_b(isv)\n",
    "\n",
    "print(indicator([1.5, -0.5]))"
   ]
  },
  {
   "cell_type": "code",
   "execution_count": 292,
   "metadata": {},
   "outputs": [
    {
     "data": {
      "image/png": "[encoded data removed]",
      "text/plain": [
       "<Figure size 432x288 with 1 Axes>"
      ]
     },
     "metadata": {
      "needs_background": "light"
     },
     "output_type": "display_data"
    }
   ],
   "source": [
    "# Plotting the Decision Boundary\n",
    "xgrid = numpy.linspace(-2, 2)\n",
    "ygrid = numpy.linspace(-2, 2)\n",
    "\n",
    "grid = numpy.array([[indicator([x, y]) for x in xgrid] for y in ygrid])\n",
    "\n",
    "plt.contour(xgrid, ygrid, grid, (-1.0, 0.0, 1.0), colors=('red', 'black', 'blue'), linewidths=(1,3,1))\n",
    "plt.plot([p[0] for p in classA], [p[1] for p in classA], 'b.')\n",
    "plt.plot([p[0] for p in classB], [p[1] for p in classB], 'r.')\n",
    "#plt.savefig('svmclass_5_10_RBF5.pdf')\n",
    "plt.show()"
   ]
  },
  {
   "cell_type": "code",
   "execution_count": null,
   "metadata": {},
   "outputs": [],
   "source": []
  }
 ],
 "metadata": {
  "kernelspec": {
   "display_name": "Python 3",
   "language": "python",
   "name": "python3"
  },
  "language_info": {
   "codemirror_mode": {
    "name": "ipython",
    "version": 3
   },
   "file_extension": ".py",
   "mimetype": "text/x-python",
   "name": "python",
   "nbconvert_exporter": "python",
   "pygments_lexer": "ipython3",
   "version": "3.7.1"
  }
 },
 "nbformat": 4,
 "nbformat_minor": 2
}
