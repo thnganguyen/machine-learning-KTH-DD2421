{
 "cells": [
  {
   "cell_type": "code",
   "execution_count": 1,
   "metadata": {},
   "outputs": [],
   "source": [
    "import numpy, random, math\n",
    "from scipy.optimize import minimize\n",
    "import matplotlib.pyplot as plt\n",
    "from sklearn.datasets import make_moons, make_circles, make_classification, make_blobs"
   ]
  },
  {
   "cell_type": "code",
   "execution_count": 2,
   "metadata": {},
   "outputs": [],
   "source": [
    "def kernels(x, y, fun='linear', paras=1):\n",
    "    if len(x)!=len(y):\n",
    "        print('2 objects should be have same length!')\n",
    "        return 0\n",
    "    if fun=='poly':\n",
    "        return (numpy.dot(x,y)+1)**paras\n",
    "    if fun=='RBF':\n",
    "        return numpy.exp(-numpy.dot(x-y,x-y)/(2*paras*paras))\n",
    "    return numpy.dot(x,y)"
   ]
  },
  {
   "cell_type": "code",
   "execution_count": 3,
   "metadata": {},
   "outputs": [],
   "source": [
    "def objective(alpha):\n",
    "    # alpha is 1xn array or list\n",
    "    if not isinstance(alpha, numpy.ndarray):\n",
    "        alpha = numpy.array(alpha)\n",
    "    return numpy.dot(alpha, numpy.dot(alpha, P))/2 - numpy.sum(alpha)"
   ]
  },
  {
   "cell_type": "code",
   "execution_count": 4,
   "metadata": {},
   "outputs": [],
   "source": [
    "def zerofun(alpha):\n",
    "    if not isinstance(alpha, numpy.ndarray):\n",
    "        alpha = numpy.array(alpha)\n",
    "    return numpy.dot(alpha, targets)"
   ]
  },
  {
   "cell_type": "code",
   "execution_count": 5,
   "metadata": {},
   "outputs": [],
   "source": [
    "def extract_nonzeros():\n",
    "    if C==None:\n",
    "        return [inputs[(alpha>10**(-5)),:], \n",
    "                targets[(alpha>10**(-5))], \n",
    "                alpha[(alpha>10**(-5))]]\n",
    "    else:\n",
    "        return [inputs[(alpha>10**(-5))&(alpha<C-10**(-5)),:], \n",
    "                targets[(alpha>10**(-5))&(alpha<C-10**(-5))], \n",
    "                alpha[(alpha>10**(-5))&(alpha<C-10**(-5))]]"
   ]
  },
  {
   "cell_type": "code",
   "execution_count": 6,
   "metadata": {},
   "outputs": [],
   "source": [
    "def find_b(index_sv):\n",
    "    return numpy.dot(alpha*targets, \n",
    "              numpy.array([kernels(sv[0][index_sv,:],xi,fun,paras) for xi in inputs])) - sv[1][index_sv]"
   ]
  },
  {
   "cell_type": "code",
   "execution_count": 7,
   "metadata": {},
   "outputs": [],
   "source": [
    "def indicator(s):\n",
    "    return numpy.dot(alpha*targets, numpy.array([kernels(s,xi,fun,paras) for xi in inputs])) - b"
   ]
  },
  {
   "cell_type": "code",
   "execution_count": 193,
   "metadata": {},
   "outputs": [],
   "source": [
    "# Generate Test Data\n",
    "def dataset0(n1=10, n2=10, n3=10, pos1=[1.5,0.5], pos2=[-1.5,0.5], pos3=[0.0,-0.5], var1=0.2, var2=0.2, var3=0.2):\n",
    "    classA = numpy.concatenate((numpy.random.randn(n1, 2) * var1 + pos1,\n",
    "                               numpy.random.randn(n2, 2) * var2 + pos2))\n",
    "    classB = numpy.random.randn(n3, 2) * var3 + pos3\n",
    "\n",
    "    inputs = numpy.concatenate((classA, classB))\n",
    "    targets = numpy.concatenate((numpy.ones(classA.shape[0]), -numpy.ones(classB.shape[0])))\n",
    "\n",
    "    N = inputs.shape[0]\n",
    "\n",
    "    permute = list(range(N))\n",
    "    random.shuffle(permute)\n",
    "    inputs = inputs[permute, :]\n",
    "    targets = targets[permute]\n",
    "    return inputs, targets, classA, classB"
   ]
  },
  {
   "cell_type": "code",
   "execution_count": 260,
   "metadata": {},
   "outputs": [],
   "source": [
    "def datasetMoon(random_state=0):\n",
    "    inputs, targets = make_moons(n_samples=100, noise=0.1)\n",
    "    classA = inputs[targets==1]\n",
    "    classB = inputs[targets==0]\n",
    "    targets[targets==0] = -1\n",
    "    return inputs, targets, classA, classB"
   ]
  },
  {
   "cell_type": "code",
   "execution_count": 167,
   "metadata": {},
   "outputs": [],
   "source": [
    "def datasetCircle():\n",
    "    inputs, targets = make_circles(n_samples=100, factor=0.5, noise=0.05)\n",
    "    classA = inputs[targets==1]\n",
    "    classB = inputs[targets==0]\n",
    "    targets[targets==0] = -1\n",
    "    return inputs, targets, classA, classB"
   ]
  },
  {
   "cell_type": "code",
   "execution_count": 253,
   "metadata": {},
   "outputs": [],
   "source": [
    "def datasetClass():\n",
    "    inputs, targets = make_classification(n_samples=100, n_features=2, n_redundant=0,\n",
    "                                        n_informative=2, random_state=2,\n",
    "                                        n_clusters_per_class=1)\n",
    "    classA = inputs[targets==1]\n",
    "    classB = inputs[targets==0]\n",
    "    targets[targets==0] = -1\n",
    "    return inputs, targets, classA, classB"
   ]
  },
  {
   "cell_type": "code",
   "execution_count": 44,
   "metadata": {},
   "outputs": [],
   "source": [
    "def datasetBlobs():\n",
    "    inputs, targets = make_blobs(n_samples=100, centers=[(-2.0, -2.0), (2.0, 2.0)], n_features=2)\n",
    "    classA = inputs[targets==1]\n",
    "    classB = inputs[targets==0]\n",
    "    targets[targets==0] = -1\n",
    "    return inputs, targets, classA, classB"
   ]
  },
  {
   "cell_type": "code",
   "execution_count": 55,
   "metadata": {},
   "outputs": [],
   "source": [
    "def datasetFlame():\n",
    "    d = numpy.loadtxt('flame.txt')\n",
    "    inputs = d[:,[0,1]]/10 - [0.7, 2.0]\n",
    "    targets = d[:, 2]\n",
    "    \n",
    "    classA = inputs[targets==1,:]\n",
    "    classB = inputs[targets==2,:]\n",
    "    \n",
    "    targets[targets==2] = -1\n",
    "    \n",
    "    return inputs, targets, classA, classB"
   ]
  },
  {
   "cell_type": "code",
   "execution_count": 69,
   "metadata": {},
   "outputs": [],
   "source": [
    "def datasetSpiral():\n",
    "    d = numpy.loadtxt('spiral.txt')\n",
    "    \n",
    "    targets = d[:, 2]\n",
    "    inputs = d[targets<3,:]\n",
    "    targets = targets[targets<3]\n",
    "    inputs = inputs[:,[0,1]]/10-[2.0,2.0]\n",
    "    \n",
    "    classA = inputs[targets==1,:]\n",
    "    classB = inputs[targets==2,:]\n",
    "    \n",
    "    targets[targets==2] = -1\n",
    "    \n",
    "    return inputs, targets, classA, classB"
   ]
  },
  {
   "cell_type": "code",
   "execution_count": 114,
   "metadata": {},
   "outputs": [],
   "source": [
    "def datasetPathbased():\n",
    "    d = numpy.loadtxt('pathbased.txt')\n",
    "    \n",
    "    targets = d[:, 2]\n",
    "    inputs = d[:,[0,1]]\n",
    "    \n",
    "    targets[targets==2] = -1\n",
    "    targets[targets==3] = -1\n",
    "    \n",
    "    classA = inputs[targets==1,:]\n",
    "    classB = inputs[targets==-1,:]\n",
    "    \n",
    "    return inputs, targets, classA, classB"
   ]
  },
  {
   "cell_type": "code",
   "execution_count": 150,
   "metadata": {},
   "outputs": [],
   "source": [
    "numpy.random.seed(100)\n",
    "inputs, targets, classA, classB = datasetSpiral()\n",
    "#inputs, targets, classA, classB = dataset0(50, 50, 50 ,[0.7, 0.3], [-0.7, 0.3], [0.0, -0.2], \n",
    "#                                          var1=0.1, var2=0.1, var3=0.1)"
   ]
  },
  {
   "cell_type": "code",
   "execution_count": 151,
   "metadata": {},
   "outputs": [
    {
     "data": {
      "image/png": "[encoded data removed]",
      "text/plain": [
       "<Figure size 432x288 with 1 Axes>"
      ]
     },
     "metadata": {
      "needs_background": "light"
     },
     "output_type": "display_data"
    }
   ],
   "source": [
    "# Plotting\n",
    "plt.plot([p[0] for p in classA], [p[1] for p in classA], 'b.')\n",
    "plt.plot([p[0] for p in classB], [p[1] for p in classB], 'r.')\n",
    "\n",
    "#plt.axis([-4.0, 2.0, -2.0, 2.0])\n",
    "plt.axis('equal')\n",
    "#plt.savefig('svmplot_spiral.pdf')\n",
    "plt.show()"
   ]
  },
  {
   "cell_type": "code",
   "execution_count": 186,
   "metadata": {},
   "outputs": [
    {
     "name": "stdout",
     "output_type": "stream",
     "text": [
      "[9.95346257 1.51630395 0.0400989  5.02406945 1.08348167 0.91713548\n",
      " 4.99583899 9.53747873]\n",
      "14.36346907485462\n"
     ]
    }
   ],
   "source": [
    "fun = 'poly'\n",
    "paras = 3\n",
    "C = 10\n",
    "N = inputs.shape[0]\n",
    "K = numpy.array([[kernels(xi, xj, fun, paras) for xi in inputs] for xj in inputs])\n",
    "\n",
    "P = numpy.outer(targets,targets)*K\n",
    "\n",
    "ret = minimize(objective, numpy.zeros(N), bounds=[(0,C) for b in range(N)], \n",
    "               constraints={'type':'eq', 'fun':zerofun})\n",
    "alpha = ret['x']\n",
    "\n",
    "sv = extract_nonzeros()\n",
    "# alpha get from minimize strictly set C if is is over C\n",
    "print(sv[2])\n",
    "isv = 0\n",
    "b = find_b(isv)\n",
    "\n",
    "print(indicator([1.5, -0.5]))"
   ]
  },
  {
   "cell_type": "code",
   "execution_count": 187,
   "metadata": {},
   "outputs": [
    {
     "data": {
      "image/png": "[encoded data removed]",
      "text/plain": [
       "<Figure size 432x288 with 1 Axes>"
      ]
     },
     "metadata": {
      "needs_background": "light"
     },
     "output_type": "display_data"
    }
   ],
   "source": [
    "# Plotting the Decision Boundary\n",
    "xgrid = numpy.linspace(-4, 2, 100)\n",
    "ygrid = numpy.linspace(-2, 2, 100)\n",
    "\n",
    "grid = numpy.array([[indicator([x, y]) for x in xgrid] for y in ygrid])\n",
    "\n",
    "plt.contour(xgrid, ygrid, grid, (-1.0, 0.0, 1.0), colors=('red', 'black', 'blue'), linewidths=(1,3,1))\n",
    "plt.plot([p[0] for p in classA], [p[1] for p in classA], 'b.')\n",
    "plt.plot([p[0] for p in classB], [p[1] for p in classB], 'r.')\n",
    "plt.savefig('svmclass_spiral_poly3_C10.pdf')\n",
    "plt.show()"
   ]
  },
  {
   "cell_type": "code",
   "execution_count": null,
   "metadata": {},
   "outputs": [],
   "source": []
  },
  {
   "cell_type": "code",
   "execution_count": null,
   "metadata": {},
   "outputs": [],
   "source": []
  }
 ],
 "metadata": {
  "kernelspec": {
   "display_name": "Python 3",
   "language": "python",
   "name": "python3"
  },
  "language_info": {
   "codemirror_mode": {
    "name": "ipython",
    "version": 3
   },
   "file_extension": ".py",
   "mimetype": "text/x-python",
   "name": "python",
   "nbconvert_exporter": "python",
   "pygments_lexer": "ipython3",
   "version": "3.7.1"
  }
 },
 "nbformat": 4,
 "nbformat_minor": 2
}
