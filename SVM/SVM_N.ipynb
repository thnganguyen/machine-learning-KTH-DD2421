{
 "cells": [
  {
   "cell_type": "code",
   "execution_count": 1,
   "metadata": {},
   "outputs": [],
   "source": [
    "import numpy, random, math\n",
    "from scipy.optimize import minimize\n",
    "import matplotlib.pyplot as plt"
   ]
  },
  {
   "cell_type": "code",
   "execution_count": 142,
   "metadata": {},
   "outputs": [],
   "source": [
    "def linear_kernel(x, y):\n",
    "    s = 0\n",
    "    if len(x)!=len(y):\n",
    "        print('2 objects should be have same length!')\n",
    "    else:\n",
    "        for i, xi in enumerate(x):\n",
    "            s += xi*y[i]\n",
    "    return s\n",
    "\n",
    "def objective(alpha):\n",
    "    # alpha is 1xn array or list\n",
    "    if not isinstance(alpha, numpy.ndarray):\n",
    "        alpha = numpy.array(alpha)\n",
    "    s = numpy.dot(alpha, numpy.dot(alpha, P))/2 - numpy.sum(alpha)\n",
    "    return s\n",
    "\n",
    "def zerofun(alpha):\n",
    "    if not isinstance(alpha, numpy.ndarray):\n",
    "        alpha = numpy.array(alpha)\n",
    "    return numpy.dot(alpha, targets)\n",
    "\n",
    "def extract_nonzeros():\n",
    "    return [inputs[(alpha>10**(-5))], \n",
    "            targets[(alpha>10**(-5))], \n",
    "            alpha[(alpha>10**(-5))]]\n",
    "\n",
    "def find_b(index_sv):\n",
    "    return numpy.dot([sv[2][i]*ti for i,ti in enumerate(sv[1])], \n",
    "                     [linear_kernel(sv[0][index_sv],xi) for xi in sv[0]]) - sv[1][index_sv]\n",
    "\n",
    "def indicator(s):\n",
    "    return numpy.dot([sv[2][i]*ti for i,ti in enumerate(sv[1])], [linear_kernel(s,xi) for xi in sv[0]]) - b"
   ]
  },
  {
   "cell_type": "code",
   "execution_count": 145,
   "metadata": {},
   "outputs": [],
   "source": [
    "# Generate Test Data\n",
    "numpy.random.seed(100)\n",
    "classA = numpy.concatenate((numpy.random.randn(10, 2) * 0.2 + [1.5, 0.5],\n",
    "                           numpy.random.randn(10, 2) * 0.2 + [-1.5, 0.5]))\n",
    "classB = numpy.random.randn(20, 2) * 0.2 + [0.0, -0.5]\n",
    "\n",
    "inputs = numpy.concatenate((classA, classB))\n",
    "targets = numpy.concatenate((numpy.ones(classA.shape[0]), -numpy.ones(classB.shape[0])))\n",
    "\n",
    "\n",
    "\n",
    "N = inputs.shape[0]\n",
    "\n",
    "permute=list(range(N))\n",
    "random.shuffle(permute)\n",
    "inputs = inputs[permute, :]\n",
    "targets = targets[permute]"
   ]
  },
  {
   "cell_type": "code",
   "execution_count": 146,
   "metadata": {},
   "outputs": [
    {
     "name": "stdout",
     "output_type": "stream",
     "text": [
      "-2.8244581631344623\n"
     ]
    }
   ],
   "source": [
    "K = numpy.array([[linear_kernel(xi, xj) for xi in inputs] for xj in inputs])\n",
    "\n",
    "P = numpy.outer(targets,targets)*K\n",
    "\n",
    "ret = minimize(objective, numpy.zeros(N), bounds=[(0,None) for b in range(N)], \n",
    "               constraints={'type':'eq', 'fun':zerofun})\n",
    "alpha = ret['x']\n",
    "\n",
    "sv = extract_nonzeros()\n",
    "\n",
    "isv = 0\n",
    "b = find_b(isv)\n",
    "\n",
    "print(indicator([1.5, -0.5]))"
   ]
  },
  {
   "cell_type": "code",
   "execution_count": 147,
   "metadata": {
    "scrolled": true
   },
   "outputs": [
    {
     "data": {
      "image/png": "[encoded data removed]",
      "text/plain": [
       "<Figure size 432x288 with 1 Axes>"
      ]
     },
     "metadata": {
      "needs_background": "light"
     },
     "output_type": "display_data"
    }
   ],
   "source": [
    "# Plotting\n",
    "plt.plot([p[0] for p in classA], [p[1] for p in classA], 'b.')\n",
    "plt.plot([p[0] for p in classB], [p[1] for p in classB], 'r.')\n",
    "\n",
    "plt.axis('equal')\n",
    "plt.savefig('svmplot.pdf')\n",
    "plt.show()"
   ]
  },
  {
   "cell_type": "code",
   "execution_count": 148,
   "metadata": {},
   "outputs": [
    {
     "data": {
      "image/png": "[encoded data removed]",
      "text/plain": [
       "<Figure size 432x288 with 1 Axes>"
      ]
     },
     "metadata": {
      "needs_background": "light"
     },
     "output_type": "display_data"
    }
   ],
   "source": [
    "# Plotting the Decision Boundary\n",
    "xgrid = numpy.linspace(-5, 5)\n",
    "ygrid = numpy.linspace(-4, 4)\n",
    "\n",
    "grid = numpy.array([[indicator([x, y]) for x in xgrid] for y in ygrid])\n",
    "\n",
    "plt.contour(xgrid, ygrid, grid, (-1.0, 0.0, 1.0), colors=('red', 'black', 'blue'), linewidths=(1,3,1))\n",
    "plt.plot([p[0] for p in classA], [p[1] for p in classA], 'b.')\n",
    "plt.plot([p[0] for p in classB], [p[1] for p in classB], 'r.')\n",
    "plt.show()"
   ]
  },
  {
   "cell_type": "code",
   "execution_count": null,
   "metadata": {},
   "outputs": [],
   "source": []
  }
 ],
 "metadata": {
  "kernelspec": {
   "display_name": "Python 3",
   "language": "python",
   "name": "python3"
  },
  "language_info": {
   "codemirror_mode": {
    "name": "ipython",
    "version": 3
   },
   "file_extension": ".py",
   "mimetype": "text/x-python",
   "name": "python",
   "nbconvert_exporter": "python",
   "pygments_lexer": "ipython3",
   "version": "3.7.1"
  }
 },
 "nbformat": 4,
 "nbformat_minor": 2
}
